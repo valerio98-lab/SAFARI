{
 "cells": [
  {
   "cell_type": "code",
   "execution_count": 40,
   "id": "fa0d493f",
   "metadata": {},
   "outputs": [
    {
     "data": {
      "text/plain": [
       "tensor([[2, 4, 7],\n",
       "        [2, 6, 3]])"
      ]
     },
     "execution_count": 40,
     "metadata": {},
     "output_type": "execute_result"
    }
   ],
   "source": [
    "import torch \n",
    "\n",
    "h1 = torch.tensor([1, 2, 3, 4, 5,7,8])\n",
    "h2 = torch.tensor([3, 2, 1, 6, 5,3,1])\n",
    "h = torch.stack([h1, h2])\n",
    "h[:, 1:-1:2]"
   ]
  }
 ],
 "metadata": {
  "kernelspec": {
   "display_name": "safari",
   "language": "python",
   "name": "python3"
  },
  "language_info": {
   "codemirror_mode": {
    "name": "ipython",
    "version": 3
   },
   "file_extension": ".py",
   "mimetype": "text/x-python",
   "name": "python",
   "nbconvert_exporter": "python",
   "pygments_lexer": "ipython3",
   "version": "3.10.15"
  }
 },
 "nbformat": 4,
 "nbformat_minor": 5
}
